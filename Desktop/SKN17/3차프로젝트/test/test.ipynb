{
 "cells": [
  {
   "cell_type": "markdown",
   "id": "14eceb1d",
   "metadata": {},
   "source": [
    "# 성능 테스트"
   ]
  },
  {
   "cell_type": "markdown",
   "id": "45c57871",
   "metadata": {},
   "source": [
    "____________"
   ]
  },
  {
   "cell_type": "markdown",
   "id": "b8aa0de1",
   "metadata": {
    "vscode": {
     "languageId": "plaintext"
    }
   },
   "source": [
    "## 1. 테스트 데이터 셋 준비 \n",
    "- 형식 Json 형식\n",
    "- 질문 / 출처문서 /예상답변 포함"
   ]
  },
  {
   "cell_type": "code",
   "execution_count": null,
   "id": "1f38fbfc",
   "metadata": {},
   "outputs": [],
   "source": [
    "\n",
    "test_set = [\n",
    "  {\n",
    "    \"question\": \"저는 만 25세인데, 청년 매입임대주택에 신청하기 위한 입주자격 확인 서류는 무엇인가요?\",\n",
    "    \"source\": \"25년 3차 청년매입임대 예비입주자 모집공고문\",\n",
    "    \"expected_answer\": \"1. 주민등록등본\\n2. 가족관계증명서\\n3. 무주택세대구성원 확인 서류\\n4. 소득·자산 증빙서류\\n    - 건강보험 자격득실확인서\\n    - 소득금액증명원\\n    - 금융자산 확인서류 등\\n\\n필요 서류는 모집공고별로 세부 양식이 다를 수 있어요. 제출 전 해당 공고문 서류 목록을 한 번 더 확인하시면 안전합니다.\"\n",
    "  },\n",
    "  {\n",
    "    \"question\": \"청년 매입임대주택의 임대보증금과 월임대료 전환 방식에 대해 알려주세요\",\n",
    "    \"source\": \"25년 3차 청년매입임대 예비입주자 모집공고문\",\n",
    "    \"expected_answer\": \"기본 보증금과 월임대료가 정해져 있고, 보증금을 올리면 그만큼 월임대료가 내려가는 전환 방식이 적용됩니다.\\n- 보증금 증액→ 월임대료 감액\\n- 보증금 감액→ 월임대료 증액\\n\\n예) 보증금을 일부 올리면 매달 내는 월세 부담이 줄어듭니다. 본인 자금 여건에 맞춰 보증금/월세 비중을 조정하시면 좋아요.\\n\\n전환 비율과 한도는 공고/주택별로 다를 수 있으니, 해당 공고의 “보증금 전환 기준” 표를 꼭 확인해 주세요.\"\n",
    "  },\n",
    "  {\n",
    "    \"question\": \"신혼부부 매입임대주택1의 입주 순위는 어떻게 되나요?\",\n",
    "    \"source\": \"25년 3차 신혼·신생아 매입임대Ⅰ 모집공고문\",\n",
    "    \"expected_answer\": \"신혼부부 매입임대주택 Ⅰ의 입주 순위는 다음과 같습니다.\\n\\n1순위: 신생아가 있는 가구, 여성가족부 장관 고시 한부모가족(모자가족·부자가족)\\n2순위: (1순위 제외) 미성년 자녀가 있는 신혼부부·예비신혼부부, 6세 이하 자녀가 있는 한부모가족\\n3순위: 미성년 자녀가 없는 신혼부부·예비신혼부부\\n4순위: 1·2순위에 해당하지 않으면서 6세 이하 자녀가 있는 혼인가구\"\n",
    "  },\n",
    "  {\n",
    "    \"question\": \"신혼부부 매입임대주택1 의 소득과 자산 산정 방법은 어떻게 되나요?\",\n",
    "    \"source\": \"25년 3차 신혼·신생아 매입임대Ⅰ 모집공고문\",\n",
    "    \"expected_answer\": \"신혼부부 매입임대주택Ⅰ의 소득·자산 산정 기준은 다음과 같습니다.\\n\\n1. 소득 산정: 근로소득 + 사업소득 + 재산소득(이자‧배당‧임대 등) + 기타소득(연금 등)을 모두 합산합니다.\\n2. 자산 산정: 총자산가액 = 부동산가액 + 자동차가액 + 금융자산가액 + 기타자산가액 − 부채로 산정합니다.\\n3. 자동차 기준: 자동차가액은 총자산에 합산하며, 별도의 자동차 상한 기준도 동시에 충족해야 합니다.\\n4. 유의사항: 가구원 범위, 평가 기준일, 제출 서류 등은 해당 모집공고의 세부 기준을 따릅니다.\"\n",
    "  },\n",
    "  {\n",
    "    \"question\": \"서울지역 신혼/신생아 매입임대주택 전세형 모집 기간은 언제인가요?\",\n",
    "    \"source\": \"25년 3차 신혼·신생아 매입임대Ⅱ(전세형) 모집공고문\",\n",
    "    \"expected_answer\": \"서울지역 신혼·신생아 매입임대주택 Ⅱ(전세형)의 모집 일정은 다음과 같습니다.\\n\\n1. 접수 방식: PC‧모바일\\n2. 서류심사 대상자 발표: 2025.09.11.(목)\\n3. 서류 제출: 2025.09.26.(금) 10:00 ~ 2025.09.30.(화)\\n4. 자격 검증 결과 및 예비입주자 순번 발표: 2025.10.01.(수)\\n5. 계약 체결: 2025.10.01.(수) ~ 2025.12.05.(금) (순번 도래 시 진행)\\n6. 최종 계약일: 2025.12.08.(월) 17:00 이후 별도 안내 예정\\n\\n> 상기 일정은 해당 모집공고 기준입니다. 세부 일정은 공고 수정 등에 따라 변동될 수 있으므로, 신청 전 공고문을 다시 확인하시기 바랍니다.\"\n",
    "  }\n",
    ",\n",
    "  {\n",
    "    \"question\": \"현재 혼인한 지 9년인데, 신혼부부 유형으로 매입임대를 신청할 수 있나요?\",\n",
    "    \"source\": \"25년 3차 신혼·신생아 매입임대Ⅰ 모집공고문\",\n",
    "    \"expected_answer\": \"신혼부부 유형은 원칙적으로 혼인기간 7년 이내까지만 해당됩니다. 혼인 9년차는 자격 요건에 부합하지 않습니다.\"\n",
    "  },\n",
    "  {\n",
    "    \"question\": \"배우자가 외국인 등록이 되어 있지 않은 외국인인 경우, 신혼부부 매입임대 신청이 가능한가요?\",\n",
    "    \"source\": \"25년 3차 신혼·신생아 매입임대Ⅰ 모집공고문\",\n",
    "    \"expected_answer\": \"세대원 전원이 주민등록 또는 외국인등록이 되어 있어야 하므로, 배우자가 외국인등록이 되지 않은 경우 신청이 불가합니다.\"\n",
    "  },\n",
    "  {\n",
    "    \"question\": \"저는 청년이고 총 자산은 2천만 원인데, 몇 순위에 해당하나요?\",\n",
    "    \"source\": \"25년 3차 청년매입임대 예비입주자 모집공고문\",\n",
    "    \"expected_answer\": \"- 청년 매입임대주택의 입주자격은 소득과 자산 기준에 따라 1~3순위로 구분됩니다.\\n    - 2순위 자산 기준: 총자산 3억 3,700만 원 이하, 자동차 3,803만 원 이하\\n    - 3순위 자산 기준: 총자산 2억 5,400만 원 이하, 자동차 3,803만 원 이하\\n\\n따라서 총 자산이 2천만 원이라면 두 기준 모두 훨씬 밑도는 수준이므로 자격 충족 시 최소 2순위 이상, 조건에 따라 1순위도 가능성이 있습니다. 즉, 2천만 원 자산만으로는 자격 탈락 우려가 없고 상위 순위(1순위 또는 2순위)로 분류됩니다.\"\n",
    "  },\n",
    "  {\n",
    "    \"question\": \"저는 무주택 세대이고, 소득이 70% 이하입니다. 보증금 1억 이하 조건으로 송파구에 있는 청년 매입임대 주택이 있나요?\",\n",
    "    \"source\": \"3차 청년주택 매입입대 공급목록\",\n",
    "    \"expected_answer\": \"네, 송파구에는 보증금 1억 원 이하 조건을 충족하는 청년 매입임대 주택이 5곳  있습니다.\\n\\n- 송파구 가락동 (중대로10길 37-13)\\n    - 주택유형: 도시형생활주택\\n    - 전용면적: 약 26.8㎡\\n    - 보증금: 1백만 원 ~ 4,690만 원\\n    - 월임대료: 약 178,790원 ~ 446,540원\\n- 송파구 방이동 (H타워 오피스텔, 오금로11길 61-16)\\n    - 주택유형: 오피스텔\\n    - 전용면적: 약 21㎡\\n    - 보증금: 1백만 원 ~ 4,390만 원\\n    - 월임대료: 약 159,490원 ~ 407,550원\\n- 송파구 삼전동 (백제고분로22길 28-17, 더트라이앵글12)\\n    - 주택유형: 다세대주택\\n    - 전용면적: 약 28㎡\\n    - 보증금: 1백만 원 ~ 4,960만 원\\n    - 월임대료: 약 189,420원 ~ 472,920원\\n- 송파구 송파동 (오금로22길 28, 제나 / 송파대로40길 3-6 국영리치빌)\\n    - 주택유형: 다세대·도시형생활주택\\n    - 전용면적: 약 24~26㎡\\n    - 보증금: 1백만 원 ~ 5,520만 원\\n    - 월임대료: 약 199,030원 ~ 527,810원\\n\\n따라서 사용자가 제시한 조건(무주택, 소득 70% 이하, 보증금 1억 이하)을 충족한다면, 송파구 지역에서 여러 주택을 선택할 수 있습니다.\"\n",
    "  },\n",
    "  {\n",
    "    \"question\": \"저는 신혼부부이고 혼인 3년 차이며, 아이가 1명 있습니다. 적합한 모집공고와 해당 공고에서 강동구에서 보증금 5천만원 이하인 주택이 있나요?\",\n",
    "    \"source\": [\"25년 3차 신혼·신생아 매입임대Ⅰ 모집공고문\" ,\"25년 3차 신혼·신생아 매입임대Ⅱ(전세형) 모집공고문\"],\n",
    "    \"expected_answer\": \"혼인 7년 이내의 신혼부부이며 자녀(1명)가 있는 가구로, 이번 2025년 3차 신혼·신생아 매입임대Ⅰ·Ⅱ(서울지역) 모집공고에 신청 가능합니다.\\n\\n입주자격\\n- 신혼부부: 혼인 7년 이내 → 혼인 3년 차이므로 충족\\n- 미성년 자녀 1명 보유 → 입주순위 2순위에 해당\\n\\n모집공고 종류\\n- Ⅰ 유형: 시세의 30~40% 수준 임대, 최장 20년 거주 가능\\n- Ⅱ 유형(전세형): 시세의 70~80% 수준 보증금, 최장 14년 거주 가능\\n\\n강동구 주택 여부\\n\\n2025년 3차 신혼·신생아 매입임대(Ⅱ유형, 전세형) 공고에 강동구 내 보증금 1억 5천만원 이하 공급주택은 1곳 신청 가능합니다.\\n\\n- 강동구 천호동(티엘하우스)\\n    - 주소: 서울특별시 강동구 구천면로48길 25 (티엘하우스)\\n    - 주택형태: 다세대주택, 2층\\n    - 전용면적: 41.55㎡\\n    - 보증금: 약 1억 3,185만 원\\n    - 월임대료: 약 13.3만 원\\n\\n2025년 3차 신혼·신생아 매입임대(1유형)의 강동구의 보증금 1억5천이하는 총 25건입니다.\\n25건의 추가매물을 상세히 안내드릴까요?\"\n",
    "  }\n",
    ",\n",
    "  {\n",
    "    \"question\": \"저는 25세 서울 거주자인데, 행복주택 모집 공고를 알려주세요.\",\n",
    "    \"source\": \"None\",\n",
    "    \"expected_answer\": \"행복주택은 이번 매입임대 공고와 별도로 LH에서 별도 공고합니다. LH 청약센터 공고문을 확인해야 합니다.\"\n",
    "  },\n",
    "  {\n",
    "    \"question\": \"신생아 특례 버팀목대출의 최대 대출 한도는 얼마인가요?\",\n",
    "    \"source\": \"3.신생아_특례_버팀목대출.docx\",\n",
    "    \"expected_answer\": \"신생아 특례 버팀목대출의 최대 대출 한도는 임차보증금의 80% 이내에서 최대 2억 4천만 원입니다.\"\n",
    "  },\n",
    "  {\n",
    "    \"question\": \"주거취약계층 이주지원 버팀목전세자금의 금리는 몇 %인가요?\",\n",
    "    \"source\": \"4.주거취약계층_이주지원_버팀목전세자금.docx\",\n",
    "    \"expected_answer\": \"주거취약계층 이주지원 버팀목전세자금의 금리는 다음과 같습니다.\\n\\n1. 5천만 원 한도 내: 연 0%\\n2. 5천만 원 초과분: 연 1.2% ~ 1.8%\\n\\n> 금리는 공고 및 요건에 따라 변동될 수 있으므로, 신청 전 해당 모집공고의 금리 항목을 확인하시기 바랍니다.\"\n",
    "  },\n",
    "  {\n",
    "    \"question\": \"저는 최근 1년 내 출산한 가구이고 연 소득은 9천만 원입니다. 신생아 특례 버팀목대출을 받을 수 있나요?\",\n",
    "    \"source\": \"3.신생아_특례_버팀목대출.docx\",\n",
    "    \"expected_answer\": \"네 최근 1년 내 출산하였고, 연소득 9천만원이라면, 신생아 특례 버팀목 대출이 가능합니다.\\n\\n해당 대출의 신청요건은 아래와 같습니다.\\n\\n- 출산 요건: 대출 접수일 기준 2년 내 출산한 무주택 세대주 → 사용자는 최근 1년 내 출산했으므로 충족.\\n- 소득 요건: 부부합산 연소득 1.3억 원 이하 (맞벌이 시 2억 원 이하) → 사용자의 소득 9천만 원은 요건 충족.\\n- 자산 요건: 순자산 3.37억 원 이하 → 별도 확인 필요하지만, 조건 내라면 충족 가능.\\n\\n따라서 사용자는 신생아 특례 버팀목대출 대상에 해당합니다.\\n결론적으로, 귀하의 상황(1년 내 출산, 연 소득 9천만 원)에서는 충분히 신청 자격이 있습니다.\"\n",
    "  },\n",
    "  {\n",
    "    \"question\": \"저는 쪽방촌에 거주하는 무주택 세대주인데, 보증금 7천만 원짜리 민간임대주택에 전세 계약을 하려고 합니다. 어떤 대출을 받을 수 있나요?\",\n",
    "    \"source\": \"4.주거취약계층_이주지원_버팀목전세자금.docx\",\n",
    "    \"expected_answer\": \"쪽방촌에 거주하는 자는 비정상처 거주자(주거취약계층 주거지원 업무처리지침 제3조제1항제1호와 제3호)에 따라,  (세대주) 대출신청일 현재 비정상거처에 거주 중(주거상향 유형 확인서)인 세대주로 주거취약계층 이주지원 버팀목전세자금을 받을 수 있습니다.\"\n",
    "  }\n",
    ",\n",
    "  {\n",
    "    \"question\": \"신생아 특례 버팀목대출과 주거취약계층 이주지원 버팀목전세자금의 대출 금리 조건 차이는 무엇인가요?\",\n",
    "    \"source\": [\"3.신생아_특례_버팀목대출.docx\", \"4.주거취약계층_이주지원_버팀목전세자금.docx\"],\n",
    "    \"expected_answer\": \"신생아 특례 버팀목 대출 금리범위는 연 1.3% ~ 4.3%로, 일반 버팀목 대출보다 소득 요건을 완화하고, 출산 가구를 대상으로 장기간 이용 가능합니다.\\n주거취약계층 이주지원 버팀목 전세자금의 금리범위는 연 0%(5천만 원 한도), 1.2% ~ 1.8%(5천만 원 초과분)입니다.\"\n",
    "  },\n",
    "  {\n",
    "    \"question\": \"저는 무주택 세대주이고, 최근에 출산한 가구이며 연 소득은 8천만 원입니다. 이런 조건일 때 어떤 대출 상품이 가장 적합한가요?\",\n",
    "    \"source\": \"3.신생아_특례_버팀목대출.docx\",\n",
    "    \"expected_answer\": \"- 무주택 세대주이고, 최근 출산 가구이며 연소득이 8천만 원인 경우에는 신생아 특례 버팀목대출이 가장 적합합니다. 이 상품은 대출 접수일 기준 2년 이내 출산한 무주택 세대주가 대상이며, 부부합산 연소득 1.3억 원 이하(맞벌이 시 2억 원 이하) 조건을 충족하면 신청 가능합니다. 대출 조건은 금리 연 1.3%~4.3%, 최대 2.4억 원 한도(임차보증금의 80% 이내), 기간은 기본 2년에서 최장 12년까지 연장 가능합니다.\\n따라서 귀하 조건에는 일반 버팀목 대출이나 청년 전용 상품보다, 출산 가구 전용 특례 상품이 가장 유리합니다.\"\n",
    "  },\n",
    "  {\n",
    "    \"question\": \"제 근로소득이 연 2,800만원이고, 배우자가 운영하는 음식점 사업소득이 연 1,200만원입니다. 또 은행 예금이자 소득이 연 200만원, 국민연금 수령액이 연 150만원인데, 소득 합산은 얼마인가요?\",\n",
    "    \"source\": [\"25년 3차 청년매입임대 예비입주자 모집공고문\", \"25년 3차 신혼·신생아 매입임대Ⅰ 모집공고문\", \"25년 3차 신혼·신생아 매입임대Ⅱ(전세형) 모집공고문\"],\n",
    "    \"expected_answer\": \"소득 = 근로소득 2,800만원 + 사업소득 1,200만원 + 재산소득(이자) 200만원 + 기타소득(국민연금) 150만원 = 총 4,350만원입니다.\"\n",
    "  },\n",
    "  {\n",
    "    \"question\": \"제 소득이 연 4,500만원이고, 총자산가액이 5억 1,200만원입니다. 소득과 자산 산정 결과 모두 기준을 초과하면 어떻게 되나요?\",\n",
    "    \"source\":[ \"25년 3차 청년매입임대 예비입주자 모집공고문\", \"25년 3차 신혼·신생아 매입임대Ⅰ 모집공고문\", \"25년 3차 신혼·신생아 매입임대Ⅱ(전세형) 모집공고문\"],\n",
    "    \"expected_answer\": \"자격 요건은 소득 기준과 자산 기준을 동시에 충족해야 합니다. 따라서 소득이 연 4,500만원으로 기준 이하이더라도, 총자산이 5억 1,200만원으로 기준을 초과하면 신청 자격이 제한될 수 있습니다.\"\n",
    "  },\n",
    "  {\n",
    "    \"question\": \"부모님이 제 이름으로 주택청약종합저축을 증여하려고 하는데, 이런 경우 명의변경이 인정되나요?\",\n",
    "    \"source\": \"주택청약 FAQ\",\n",
    "    \"expected_answer\": \"부모님이 주택청약종합저축을 자녀에게 증여하는 방식의 명의변경은 불가능합니다. 해당 상품은 가입자가 사망한 경우에만 상속인 명의로 변경할 수 있습니다. 다만, 기존 청약저축·예·부금의 경우에는 혼인이나 세대주 변경 등의 사유에 따라 제한적으로 명의변경이 가능합니다.\"\n",
    "  }\n",
    ",\n",
    "  {\n",
    "    \"question\": \"제가 소유한 주택을 어린이집으로 운영하고 있는데, 이 경우에도 주택 소유로 간주되어 청약 자격 제한을 받게 되나요?\",\n",
    "    \"source\": \"주택청약 FAQ\",\n",
    "    \"expected_answer\": \"네. 주택을 가정어린이집이나 노인복지시설로 활용하고 있더라도, 등기사항증명서와 건축물대장에 “주택”으로 등재되어 있다면 주택 소유로 간주됩니다. 따라서 청약 시 무주택 자격 제한을 받을 수 있습니다. 다만, 노인복지주택은 예외이며, 원룸형 주택도 주택으로 포함됩니다.\"\n",
    "  },\n",
    "  {\n",
    "    \"question\": \"저는 최근 해외파견을 다녀온 무주택 청년입니다. 귀국한 지 2개월 되었는데, 강남구 전용 40㎡ 이상 보증금 8천만 원 이하 청년 매입임대 신청이 가능한가요?\",\n",
    "    \"source\": [\"주택청약 FAQ\", \"25년 3차 청년매입임대 예비입주자 모집공고문\", \"3차 청년주택 매입입대 공급목록\"],\n",
    "    \"expected_answer\": \"해외 파견을 다녀온 청년이 귀국한 경우, 청약 신청 가능 여부는 입주자모집공고일 현재 해외 체류 기간에 따라 달라집니다. 귀국한 지 2개월이 지났다면, 입주자모집공고일 기준으로 국내 거주자로 인정될 수 있습니다. 즉, 귀국 시점이 모집공고일 기준으로 충분히 지난 상태라면 청년 매입임대 신청은 가능합니다. 해당지역(강남구) 40㎡ 이상의 청년 매입 임대주택 공급대상 주택은 목록에 존재하지 않습니다.\"\n",
    "  }\n",
    "]\n"
   ]
  },
  {
   "cell_type": "markdown",
   "id": "cefd4289",
   "metadata": {},
   "source": [
    "## 성능 지표 산출 - Langchain 기반"
   ]
  },
  {
   "cell_type": "markdown",
   "id": "061d9bf7",
   "metadata": {},
   "source": [
    "1. ​Relevance: Response vs input\n",
    "2. Groundedness: Response vs retrieved docs\n",
    "3. Correctness: Response vs reference answer\n",
    "- 모델 : gpt-4o-mini"
   ]
  },
  {
   "cell_type": "code",
   "execution_count": 2,
   "id": "714e7efb",
   "metadata": {},
   "outputs": [],
   "source": [
    "import pandas as pd\n",
    "import os\n",
    "from dotenv import load_dotenv\n",
    "from typing_extensions import Annotated, TypedDict\n",
    "from langchain_openai import ChatOpenAI\n",
    "from langsmith import Client"
   ]
  },
  {
   "cell_type": "code",
   "execution_count": 3,
   "id": "44dad487",
   "metadata": {},
   "outputs": [],
   "source": [
    "# 1. 환경 설정 \n",
    "load_dotenv()\n",
    "os.environ[\"USER_AGENT\"] = \"my-rag-bot/0.1\"\n",
    "os.environ[\"LANGSMITH_TRACING\"] = \"true\"\n",
    "\n",
    "LANGCHAIN_API_KEY = os.getenv(\"LANGCHAIN_API_KEY\")\n",
    "OPENAI_API_KEY = os.getenv(\"OPENAI_API_KEY\")\n",
    "\n",
    "client = Client()"
   ]
  },
  {
   "cell_type": "code",
   "execution_count": null,
   "id": "59449d3e",
   "metadata": {},
   "outputs": [
    {
     "name": "stdout",
     "output_type": "stream",
     "text": [
      "zsh:1: no matches found: langchain[openai]\n",
      "Note: you may need to restart the kernel to use updated packages.\n"
     ]
    }
   ],
   "source": [
    "#pip install -U langsmith langchain[openai] langchain-community"
   ]
  },
  {
   "cell_type": "code",
   "execution_count": null,
   "id": "413b8857",
   "metadata": {},
   "outputs": [],
   "source": [
    "# 테스트를 위한 샘플데이터  -> 데이터 양식 \n",
    "## generated_answer : 모델을 통해 생성된 응답 넣기 \n",
    "test_data =[\n",
    "    {\n",
    "        \"inputs\": \n",
    "            {\"question\": \"저는 만 25세인데, 청년 매입임대주택에 신청하기 위한 입주자격 확인 서류는 무엇인가요?\",\n",
    "            \"answer_source\": [\"25년 3차 청년매입임대 예비입주자 모집공고문\"],\n",
    "            \"generated_answer\": \"주민등록등본, 가족관계증명서, 소득확인서류...\"\n",
    "        },\n",
    "            \n",
    "        \"outputs\": {\n",
    "            \"answer\":\n",
    "                \"1. 주민등록등본\\n2. 가족관계증명서\\n3. 무주택세대구성원 확인 서류\\n\"\n",
    "                \"4. 소득·자산 증빙서류\\n    - 건강보험 자격득실확인서\\n\"\n",
    "                \"    - 소득금액증명원\\n    - 금융자산 확인서류 등\\n\\n\"\n",
    "                \"필요 서류는 모집공고별로 세부 양식이 다를 수 있어요. 제출 전 해당 공고문 서류 목록을 한 번 더 확인하시면 안전합니다.\"\n",
    "        }\n",
    "    }\n",
    "]\n"
   ]
  },
  {
   "cell_type": "markdown",
   "id": "f9b2f86e",
   "metadata": {},
   "source": [
    "# 양식 \n",
    "test_data =[\n",
    "    {\n",
    "        \"inputs\":  \n",
    "            {\"question\": \"질문내용\",\n",
    "            \"answer_source\": [\"질문 source\"],\n",
    "            \"generated_answer\": \"모델을 통해 생성된 답변 \"\n",
    "        },\n",
    "            \n",
    "        \"outputs\": {\n",
    "            \"answer\":\"정답 답변(expected_answer)\"\n",
    "                \n",
    "        }\n",
    "    }\n",
    "]"
   ]
  },
  {
   "cell_type": "code",
   "execution_count": null,
   "id": "f81825f1",
   "metadata": {},
   "outputs": [],
   "source": [
    "# 테스트 데이터의 input을 넣어서, 위 json 형식으로 만든 후, data langsmith에 업로드 "
   ]
  },
  {
   "cell_type": "code",
   "execution_count": null,
   "id": "c254210e",
   "metadata": {},
   "outputs": [
    {
     "data": {
      "text/plain": [
       "{'example_ids': ['4bae55ce-018d-48c1-b1d5-987f4b39efe0'], 'count': 1}"
      ]
     },
     "execution_count": 18,
     "metadata": {},
     "output_type": "execute_result"
    }
   ],
   "source": [
    "# 데이터 업로드 \n",
    "dataset_name = \"test2\" #이름 바꾸면 됨\n",
    "dataset = client.create_dataset(dataset_name=dataset_name)\n",
    "client.create_examples(\n",
    "    dataset_id=dataset.id,\n",
    "    examples=test_data #데이터 갈아끼우면 됨 \n",
    ")"
   ]
  },
  {
   "cell_type": "code",
   "execution_count": null,
   "id": "921cc1b9",
   "metadata": {},
   "outputs": [],
   "source": [
    "\n",
    "\n",
    "# 모델 (한국어 가능 모델 지정)\n",
    "#llm = ChatOpenAI(model=\"gpt-4o-mini\", temperature=0)\n"
   ]
  },
  {
   "cell_type": "markdown",
   "id": "4b24f233",
   "metadata": {},
   "source": [
    "#### ​Relevance: Response vs input"
   ]
  },
  {
   "cell_type": "code",
   "execution_count": null,
   "id": "ef00b6a4",
   "metadata": {},
   "outputs": [],
   "source": [
    "# 평가 schema 정의\n",
    "class RelevanceGrade(TypedDict):\n",
    "    explanation: Annotated[str, ..., \"Explain your reasoning for the score\"]\n",
    "    relevant: Annotated[\n",
    "        bool, ..., \"Provide the score on whether the answer addresses the question\"\n",
    "    ]\n",
    "\n",
    "# 평가 프롬프트 (한국어 버전)\n",
    "relevance_instructions = \"\"\"당신은 선생님으로서 학생의 답변을 채점하고 있습니다. \n",
    "아래에 QUESTION과 STUDENT ANSWER가 주어집니다. 다음 기준에 따라 평가하세요:\n",
    "\n",
    "(1) STUDENT ANSWER가 QUESTION에 간결하고 관련성이 있는지 확인하세요.\n",
    "(2) STUDENT ANSWER가 QUESTION에 실제로 도움이 되는 답변인지 확인하세요.\n",
    "\n",
    "Relevance:\n",
    "- relevance 값이 True라면, 학생의 답변이 위 기준을 모두 충족한 것입니다.\n",
    "- relevance 값이 False라면, 답변이 질문 의도에 맞지 않거나 불필요한 내용을 포함하는 것입니다.\n",
    "\n",
    "채점 과정에서 왜 그런 판단을 했는지 단계별로 설명을 반드시 포함하세요.\"\"\"\n",
    "\n",
    "# LLM + 구조화 출력\n",
    "relevance_llm = ChatOpenAI(model=\"gpt-4o-mini\", temperature=0).with_structured_output(\n",
    "    RelevanceGrade, method=\"json_schema\", strict=True\n",
    ")\n",
    "\n",
    "# evaluator 함수\n",
    "def relevance(inputs: dict, outputs: dict) -> bool:\n",
    "    \"\"\"질문과 답변의 관련성을 평가\"\"\"\n",
    "    answer = f\"QUESTION: {inputs['question']}\\nSTUDENT ANSWER: {outputs['answer']}\"\n",
    "    grade = relevance_llm.invoke([\n",
    "        {\"role\": \"system\", \"content\": relevance_instructions},\n",
    "        {\"role\": \"user\", \"content\": answer}\n",
    "    ])\n",
    "    return grade[\"relevant\"]"
   ]
  },
  {
   "cell_type": "markdown",
   "id": "85f5eb52",
   "metadata": {},
   "source": [
    "####  Groundedness: Response vs retrieved docs"
   ]
  },
  {
   "cell_type": "code",
   "execution_count": 20,
   "id": "02c04195",
   "metadata": {},
   "outputs": [],
   "source": [
    "from typing_extensions import Annotated, TypedDict\n",
    "from langchain_openai import ChatOpenAI\n",
    "\n",
    "class GroundednessGrade(TypedDict):\n",
    "    explanation: Annotated[str, ..., \"채점 이유를 단계별로 설명\"]\n",
    "    grounded: Annotated[bool, ..., \"답변이 주어진 SOURCE 문서 내용에 근거했는지 여부\"]\n",
    "\n",
    "groundedness_instructions = \"\"\"당신은 채점관입니다. 아래에 QUESTION, STUDENT ANSWER, SOURCE DOCUMENT가 주어집니다.\n",
    "다음 기준에 따라 '근거 충실성(Groundedness)'을 평가하세요:\n",
    "\n",
    "(1) STUDENT ANSWER가 SOURCE DOCUMENT의 정보에 기반했는지 확인하세요.\n",
    "(2) SOURCE에 없는 사실을 임의로 추가했다면 False를 주어야 합니다.\n",
    "(3) SOURCE에 있는 내용과 충실히 일치하면 True를 주어야 합니다.\n",
    "\n",
    "Groundedness:\n",
    "- grounded 값이 True라면, STUDENT ANSWER는 SOURCE에 근거한 사실입니다.\n",
    "- grounded 값이 False라면, STUDENT ANSWER는 SOURCE에 없는 내용을 만들어냈습니다(환각).\n",
    "\n",
    "반드시 단계별 reasoning을 포함해 설명하세요.\"\"\"\n",
    "groundedness_llm = ChatOpenAI(model=\"gpt-4o-mini\", temperature=0).with_structured_output(\n",
    "    GroundednessGrade, method=\"json_schema\", strict=True\n",
    ")\n",
    "\n",
    "def groundedness(inputs: dict, outputs: dict):\n",
    "    # source 키 이름/타입을 유연하게 처리\n",
    "    sources = inputs.get(\"answer_source\") or inputs.get(\"source\") or []\n",
    "    if isinstance(sources, str):\n",
    "        sources = [sources]\n",
    "    # 리스트를 사람이 읽기 쉬운 블록으로 결합\n",
    "    source_text = \"\\n\\n---\\n\".join(str(s) for s in sources) if sources else \"(제공된 SOURCE 없음)\"\n",
    "    \n",
    "    msg = (\n",
    "        f\"QUESTION: {inputs.get('question', '')}\\n\"\n",
    "        f\"STUDENT ANSWER: {outputs.get('answer', '')}\\n\"\n",
    "        f\"SOURCE DOCUMENTS:\\n{source_text}\"\n",
    "    )\n",
    "    grade = groundedness_llm.invoke([\n",
    "        {\"role\": \"system\", \"content\": groundedness_instructions},\n",
    "        {\"role\": \"user\", \"content\": msg}\n",
    "    ])\n",
    "    return {\"score\": grade[\"grounded\"], \"explanation\": grade[\"explanation\"]}"
   ]
  },
  {
   "cell_type": "markdown",
   "id": "b47138e9",
   "metadata": {},
   "source": [
    "#### Correctness: Response vs reference answer"
   ]
  },
  {
   "cell_type": "code",
   "execution_count": null,
   "id": "f7589c35",
   "metadata": {},
   "outputs": [],
   "source": [
    "from typing_extensions import Annotated, TypedDict\n",
    "from langchain_openai import ChatOpenAI\n",
    "\n",
    "# 출력 스키마\n",
    "class CorrectnessGrade(TypedDict):\n",
    "    explanation: Annotated[str, ..., \"채점 이유를 단계별로 설명\"]\n",
    "    correct: Annotated[bool, ..., \"정답과 사실적으로 일치하면 True, 아니면 False\"]\n",
    "\n",
    "# 한국어 프롬프트\n",
    "correctness_instructions = \"\"\"당신은 교사로서 학생의 답변을 채점하고 있습니다. \n",
    "아래에 QUESTION, GROUND TRUTH(정답), STUDENT ANSWER가 주어집니다. 다음 기준에 따라 평가하세요:\n",
    "\n",
    "(1) STUDENT ANSWER가 GROUND TRUTH ANSWER의 사실적 내용과 일치하는지 확인하세요.  \n",
    "(2) STUDENT ANSWER에 서로 충돌되거나 모순되는 진술이 있으면 False로 판정하세요.  \n",
    "(3) STUDENT ANSWER가 정답보다 더 많은 정보를 포함하더라도, 사실적으로 정확하면 True로 판정합니다.  \n",
    "\n",
    "Correctness:\n",
    "- correctness 값이 True라면, 학생 답변이 위 기준을 모두 충족한 것입니다.  \n",
    "- correctness 값이 False라면, 학생 답변이 정답과 불일치하거나 오류가 있다는 뜻입니다.  \n",
    "\n",
    "판단 이유는 반드시 단계별로 설명해 주세요. 단순 결론만 내리지 말고 비교 과정을 보여주세요.\n",
    "\"\"\"\n",
    "\n",
    "# Grader LLM\n",
    "grader_llm = ChatOpenAI(model=\"gpt-4o-mini\", temperature=0).with_structured_output(\n",
    "    CorrectnessGrade, method=\"json_schema\", strict=True\n",
    ")\n",
    "\n",
    "# 평가 함수\n",
    "def correctness(inputs: dict, outputs: dict, reference_outputs: dict) -> bool:\n",
    "    \"\"\"RAG 답변의 정확성(사실 일치 여부) 평가\"\"\"\n",
    "    answers = f\"\"\"\\\n",
    "QUESTION: {inputs['question']}\n",
    "GROUND TRUTH ANSWER: {reference_outputs['answer']}\n",
    "STUDENT ANSWER: {outputs['answer']}\"\"\"\n",
    "    \n",
    "    grade = grader_llm.invoke([\n",
    "        {\"role\": \"system\", \"content\": correctness_instructions},\n",
    "        {\"role\": \"user\", \"content\": answers}\n",
    "    ])\n",
    "    return grade[\"correct\"]"
   ]
  },
  {
   "cell_type": "markdown",
   "id": "f2c42c8c",
   "metadata": {},
   "source": [
    "_____"
   ]
  },
  {
   "cell_type": "markdown",
   "id": "c97f70ca",
   "metadata": {},
   "source": [
    "## Run evaluation"
   ]
  },
  {
   "cell_type": "code",
   "execution_count": null,
   "id": "44bf3b98",
   "metadata": {},
   "outputs": [
    {
     "name": "stdout",
     "output_type": "stream",
     "text": [
      "Collecting ipywidgets\n",
      "  Using cached ipywidgets-8.1.7-py3-none-any.whl.metadata (2.4 kB)\n",
      "Requirement already satisfied: comm>=0.1.3 in /Users/sanbyeol/miniforge3/envs/PJ3_env/lib/python3.12/site-packages (from ipywidgets) (0.2.3)\n",
      "Requirement already satisfied: ipython>=6.1.0 in /Users/sanbyeol/miniforge3/envs/PJ3_env/lib/python3.12/site-packages (from ipywidgets) (9.5.0)\n",
      "Requirement already satisfied: traitlets>=4.3.1 in /Users/sanbyeol/miniforge3/envs/PJ3_env/lib/python3.12/site-packages (from ipywidgets) (5.14.3)\n",
      "Collecting widgetsnbextension~=4.0.14 (from ipywidgets)\n",
      "  Using cached widgetsnbextension-4.0.14-py3-none-any.whl.metadata (1.6 kB)\n",
      "Collecting jupyterlab_widgets~=3.0.15 (from ipywidgets)\n",
      "  Using cached jupyterlab_widgets-3.0.15-py3-none-any.whl.metadata (20 kB)\n",
      "Requirement already satisfied: decorator in /Users/sanbyeol/miniforge3/envs/PJ3_env/lib/python3.12/site-packages (from ipython>=6.1.0->ipywidgets) (5.2.1)\n",
      "Requirement already satisfied: ipython-pygments-lexers in /Users/sanbyeol/miniforge3/envs/PJ3_env/lib/python3.12/site-packages (from ipython>=6.1.0->ipywidgets) (1.1.1)\n",
      "Requirement already satisfied: jedi>=0.16 in /Users/sanbyeol/miniforge3/envs/PJ3_env/lib/python3.12/site-packages (from ipython>=6.1.0->ipywidgets) (0.19.2)\n",
      "Requirement already satisfied: matplotlib-inline in /Users/sanbyeol/miniforge3/envs/PJ3_env/lib/python3.12/site-packages (from ipython>=6.1.0->ipywidgets) (0.1.7)\n",
      "Requirement already satisfied: pexpect>4.3 in /Users/sanbyeol/miniforge3/envs/PJ3_env/lib/python3.12/site-packages (from ipython>=6.1.0->ipywidgets) (4.9.0)\n",
      "Requirement already satisfied: prompt_toolkit<3.1.0,>=3.0.41 in /Users/sanbyeol/miniforge3/envs/PJ3_env/lib/python3.12/site-packages (from ipython>=6.1.0->ipywidgets) (3.0.52)\n",
      "Requirement already satisfied: pygments>=2.4.0 in /Users/sanbyeol/miniforge3/envs/PJ3_env/lib/python3.12/site-packages (from ipython>=6.1.0->ipywidgets) (2.19.2)\n",
      "Requirement already satisfied: stack_data in /Users/sanbyeol/miniforge3/envs/PJ3_env/lib/python3.12/site-packages (from ipython>=6.1.0->ipywidgets) (0.6.3)\n",
      "Requirement already satisfied: wcwidth in /Users/sanbyeol/miniforge3/envs/PJ3_env/lib/python3.12/site-packages (from prompt_toolkit<3.1.0,>=3.0.41->ipython>=6.1.0->ipywidgets) (0.2.13)\n",
      "Requirement already satisfied: parso<0.9.0,>=0.8.4 in /Users/sanbyeol/miniforge3/envs/PJ3_env/lib/python3.12/site-packages (from jedi>=0.16->ipython>=6.1.0->ipywidgets) (0.8.5)\n",
      "Requirement already satisfied: ptyprocess>=0.5 in /Users/sanbyeol/miniforge3/envs/PJ3_env/lib/python3.12/site-packages (from pexpect>4.3->ipython>=6.1.0->ipywidgets) (0.7.0)\n",
      "Requirement already satisfied: executing>=1.2.0 in /Users/sanbyeol/miniforge3/envs/PJ3_env/lib/python3.12/site-packages (from stack_data->ipython>=6.1.0->ipywidgets) (2.2.1)\n",
      "Requirement already satisfied: asttokens>=2.1.0 in /Users/sanbyeol/miniforge3/envs/PJ3_env/lib/python3.12/site-packages (from stack_data->ipython>=6.1.0->ipywidgets) (3.0.0)\n",
      "Requirement already satisfied: pure_eval in /Users/sanbyeol/miniforge3/envs/PJ3_env/lib/python3.12/site-packages (from stack_data->ipython>=6.1.0->ipywidgets) (0.2.3)\n",
      "Using cached ipywidgets-8.1.7-py3-none-any.whl (139 kB)\n",
      "Using cached jupyterlab_widgets-3.0.15-py3-none-any.whl (216 kB)\n",
      "Using cached widgetsnbextension-4.0.14-py3-none-any.whl (2.2 MB)\n",
      "Installing collected packages: widgetsnbextension, jupyterlab_widgets, ipywidgets\n",
      "\u001b[2K   \u001b[90m━━━━━━━━━━━━━━━━━━━━━━━━━━━━━━━━━━━━━━━━\u001b[0m \u001b[32m3/3\u001b[0m [ipywidgets]\n",
      "\u001b[1A\u001b[2KSuccessfully installed ipywidgets-8.1.7 jupyterlab_widgets-3.0.15 widgetsnbextension-4.0.14\n",
      "usage: jupyter [-h] [--version] [--config-dir] [--data-dir] [--runtime-dir]\n",
      "               [--paths] [--json] [--debug]\n",
      "               [subcommand]\n",
      "\n",
      "Jupyter: Interactive Computing\n",
      "\n",
      "positional arguments:\n",
      "  subcommand     the subcommand to launch\n",
      "\n",
      "options:\n",
      "  -h, --help     show this help message and exit\n",
      "  --version      show the versions of core jupyter packages and exit\n",
      "  --config-dir   show Jupyter config dir\n",
      "  --data-dir     show Jupyter data dir\n",
      "  --runtime-dir  show Jupyter runtime dir\n",
      "  --paths        show all Jupyter paths. Add --json for machine-readable\n",
      "                 format.\n",
      "  --json         output paths as machine-readable json\n",
      "  --debug        output debug information about paths\n",
      "\n",
      "Available subcommands: kernel kernelspec migrate run troubleshoot\n",
      "\n",
      "Jupyter command `jupyter-nbextension` not found.\n"
     ]
    }
   ],
   "source": [
    "#!pip install ipywidgets\n",
    "#!jupyter nbextension enable --py widgetsnbextension"
   ]
  },
  {
   "cell_type": "code",
   "execution_count": null,
   "id": "706cd21b",
   "metadata": {},
   "outputs": [
    {
     "name": "stdout",
     "output_type": "stream",
     "text": [
      "View the evaluation results for experiment: 'rag-doc-test-c94c1015' at:\n",
      "https://smith.langchain.com/o/93b0447e-df7d-4944-a48d-11a93bb5f9c5/datasets/0da9ae85-8026-4e60-8af6-92d9131e89eb/compare?selectedSessions=aea690f6-17aa-4d0f-83cd-da1b707f0185\n",
      "\n",
      "\n"
     ]
    },
    {
     "name": "stderr",
     "output_type": "stream",
     "text": [
      "1it [00:14, 14.55s/it]"
     ]
    },
    {
     "name": "stdout",
     "output_type": "stream",
     "text": [
      "                                     inputs.question  \\\n",
      "0  저는 만 25세인데, 청년 매입임대주택에 신청하기 위한 입주자격 확인 서류는 무엇인가요?   \n",
      "\n",
      "          inputs.answer_source     inputs.generated_answer  \\\n",
      "0  [25년 3차 청년매입임대 예비입주자 모집공고문]  주민등록등본, 가족관계증명서, 소득확인서류...   \n",
      "\n",
      "               outputs.answer error  \\\n",
      "0  주민등록등본, 가족관계증명서, 소득확인서류...  None   \n",
      "\n",
      "                                    reference.answer  feedback.correctness  \\\n",
      "0  1. 주민등록등본\\n2. 가족관계증명서\\n3. 무주택세대구성원 확인 서류\\n4. 소...                 False   \n",
      "\n",
      "   feedback.groundedness  feedback.relevance  execution_time  \\\n",
      "0                  False                True        0.002209   \n",
      "\n",
      "                             example_id                                    id  \n",
      "0  4bae55ce-018d-48c1-b1d5-987f4b39efe0  369709c2-60cc-4671-a75f-d8f0d8d43995  \n"
     ]
    },
    {
     "name": "stderr",
     "output_type": "stream",
     "text": [
      "\n"
     ]
    }
   ],
   "source": [
    "\n",
    "# return rag_bot(inputs[\"question\"]) #rag_bot : 챗봇 함수\n",
    "\n",
    "def target(inputs: dict) -> dict:\n",
    "    return {\"answer\": inputs[\"generated_answer\"]} \n",
    "\n",
    "experiment_results = client.evaluate(\n",
    "    target,\n",
    "    data= dataset_name,\n",
    "    evaluators=[correctness, groundedness, relevance],\n",
    "    experiment_prefix=\"rag-doc-test\",  \n",
    "    metadata={\"version\": \"test\"},\n",
    ")\n",
    "\n",
    "\n",
    "\n",
    "# 결과 확인\n",
    "df = experiment_results.to_pandas()\n",
    "test_score = pd.DataFrame(df)\n",
    "print(test_score)\n",
    "#print(df)"
   ]
  },
  {
   "cell_type": "code",
   "execution_count": null,
   "id": "17d05ed2",
   "metadata": {},
   "outputs": [
    {
     "data": {
      "text/html": [
       "<div>\n",
       "<style scoped>\n",
       "    .dataframe tbody tr th:only-of-type {\n",
       "        vertical-align: middle;\n",
       "    }\n",
       "\n",
       "    .dataframe tbody tr th {\n",
       "        vertical-align: top;\n",
       "    }\n",
       "\n",
       "    .dataframe thead th {\n",
       "        text-align: right;\n",
       "    }\n",
       "</style>\n",
       "<table border=\"1\" class=\"dataframe\">\n",
       "  <thead>\n",
       "    <tr style=\"text-align: right;\">\n",
       "      <th></th>\n",
       "      <th>inputs.question</th>\n",
       "      <th>inputs.answer_source</th>\n",
       "      <th>inputs.generated_answer</th>\n",
       "      <th>outputs.answer</th>\n",
       "      <th>error</th>\n",
       "      <th>reference.answer</th>\n",
       "      <th>feedback.correctness</th>\n",
       "      <th>feedback.groundedness</th>\n",
       "      <th>feedback.relevance</th>\n",
       "      <th>execution_time</th>\n",
       "      <th>example_id</th>\n",
       "      <th>id</th>\n",
       "    </tr>\n",
       "  </thead>\n",
       "  <tbody>\n",
       "    <tr>\n",
       "      <th>0</th>\n",
       "      <td>저는 만 25세인데, 청년 매입임대주택에 신청하기 위한 입주자격 확인 서류는 무엇인가요?</td>\n",
       "      <td>[25년 3차 청년매입임대 예비입주자 모집공고문]</td>\n",
       "      <td>주민등록등본, 가족관계증명서, 소득확인서류...</td>\n",
       "      <td>주민등록등본, 가족관계증명서, 소득확인서류...</td>\n",
       "      <td>None</td>\n",
       "      <td>1. 주민등록등본\\n2. 가족관계증명서\\n3. 무주택세대구성원 확인 서류\\n4. 소...</td>\n",
       "      <td>False</td>\n",
       "      <td>False</td>\n",
       "      <td>True</td>\n",
       "      <td>0.002209</td>\n",
       "      <td>4bae55ce-018d-48c1-b1d5-987f4b39efe0</td>\n",
       "      <td>369709c2-60cc-4671-a75f-d8f0d8d43995</td>\n",
       "    </tr>\n",
       "  </tbody>\n",
       "</table>\n",
       "</div>"
      ],
      "text/plain": [
       "                                     inputs.question  \\\n",
       "0  저는 만 25세인데, 청년 매입임대주택에 신청하기 위한 입주자격 확인 서류는 무엇인가요?   \n",
       "\n",
       "          inputs.answer_source     inputs.generated_answer  \\\n",
       "0  [25년 3차 청년매입임대 예비입주자 모집공고문]  주민등록등본, 가족관계증명서, 소득확인서류...   \n",
       "\n",
       "               outputs.answer error  \\\n",
       "0  주민등록등본, 가족관계증명서, 소득확인서류...  None   \n",
       "\n",
       "                                    reference.answer  feedback.correctness  \\\n",
       "0  1. 주민등록등본\\n2. 가족관계증명서\\n3. 무주택세대구성원 확인 서류\\n4. 소...                 False   \n",
       "\n",
       "   feedback.groundedness  feedback.relevance  execution_time  \\\n",
       "0                  False                True        0.002209   \n",
       "\n",
       "                             example_id                                    id  \n",
       "0  4bae55ce-018d-48c1-b1d5-987f4b39efe0  369709c2-60cc-4671-a75f-d8f0d8d43995  "
      ]
     },
     "execution_count": 23,
     "metadata": {},
     "output_type": "execute_result"
    }
   ],
   "source": [
    "test_score = pd.DataFrame(df)"
   ]
  },
  {
   "cell_type": "code",
   "execution_count": null,
   "id": "34629835",
   "metadata": {},
   "outputs": [
    {
     "ename": "IndentationError",
     "evalue": "unexpected indent (515731641.py, line 2)",
     "output_type": "error",
     "traceback": [
      "  \u001b[36mCell\u001b[39m\u001b[36m \u001b[39m\u001b[32mIn[25]\u001b[39m\u001b[32m, line 2\u001b[39m\n\u001b[31m    \u001b[39m\u001b[31m'reference.answer', 'feedback.correctness',\u001b[39m\n    ^\n\u001b[31mIndentationError\u001b[39m\u001b[31m:\u001b[39m unexpected indent\n"
     ]
    }
   ],
   "source": [
    "# 해당 칼럼만 남기고, 나머지 제거\n",
    "columns = 'inputs.question', 'inputs.answer_source', 'inputs.generated_answer','reference.answer', 'feedback.correctness', 'feedback.groundedness', 'feedback.relevance'\n",
    "\n",
    "# test_score에서 해당 컬럼만 추출\n",
    "test_score = test_score[columns]\n",
    "\n",
    "# True 값들은 -> 1, False -> 0 으로 치환 \n",
    "bool_cols = [\"feedback.correctness\", \"feedback.groundedness\", \"feedback.relevance\"]\n",
    "test_score[bool_cols] = test_score[bool_cols].astype(int)"
   ]
  },
  {
   "cell_type": "markdown",
   "id": "05773893",
   "metadata": {},
   "source": [
    "----------"
   ]
  },
  {
   "cell_type": "code",
   "execution_count": null,
   "id": "d63279b5",
   "metadata": {},
   "outputs": [],
   "source": []
  },
  {
   "cell_type": "markdown",
   "id": "de5be16a",
   "metadata": {},
   "source": [
    "# 기타 | 확인용 함수 \n",
    "- langsmith 데이터 업로드 함수 "
   ]
  },
  {
   "cell_type": "code",
   "execution_count": null,
   "id": "f05879a8",
   "metadata": {},
   "outputs": [
    {
     "name": "stdout",
     "output_type": "stream",
     "text": [
      "DATASET: 5dfa2653-0668-4818-a40c-691aac65ef51 test1\n",
      "NUM EXAMPLES: 0\n"
     ]
    }
   ],
   "source": [
    "# 데이터 확인함수 \n",
    "\n",
    "# 1) 데이터셋 불러오기 (이름/ID 확인)\n",
    "ds = client.read_dataset(dataset_name=dataset_name) \n",
    "print(\"DATASET:\", ds.id, ds.name)\n",
    "\n",
    "# 2) 예시 개수 확인\n",
    "examples = list(client.list_examples(dataset_id=ds.id))\n",
    "print(\"NUM EXAMPLES:\", len(examples))\n",
    "if examples:\n",
    "    e0 = examples[0]\n",
    "    print(\"FIRST INPUTS:\", e0.inputs)\n",
    "    print(\"FIRST OUTPUTS:\", e0.outputs)"
   ]
  },
  {
   "cell_type": "code",
   "execution_count": null,
   "id": "74fedcdc",
   "metadata": {},
   "outputs": [],
   "source": [
    "[\n",
    "  {\n",
    "    \"num\": 1,\n",
    "    \"question\": \"경기도 과천시에서 공급되는 주택의 해당 주택건설지역의 범위는?\",\n",
    "    \"answer\": \"해당 주택건설지역이란 특별시ㆍ광역시ㆍ특별자치시ㆍ특별자치도(관할 구역 안에 지방자치단체인 시ㆍ군이 없는 특별자치도를 말한다) 또는 시ㆍ군의 행정구역을 말합니다. 따라서, 경기도 과천시에서 공급하는 주택의 경우 과천시가 해당 주택건설지역에 해당됩니다. 참고로, 서울특별시에서 공급되는 주택의 경우 서울특별시 전역, 인천광역시의 경우 인천광역시 전역이 해당 주택건설지역에 해당됩니다.\"\n",
    "  },\n",
    "  {\n",
    "    \"num\": 2,\n",
    "    \"question\": \"해당 주택건설지역에 거주하고 있지 않다면 청약신청이 불가능한지?\",\n",
    "    \"answer\": \"해당 주택건설지역에 거주하고 있지 않더라도 청약가능지역에서 공급되는 주택에 청약신청이 가능하나, 같은 순위에서는 해당 주택건설지역의 거주자가 우선하여 주택을 공급받게 됩니다. * 서울·인천·경기도 / 대전·세종·충남 / 충북 / 광주·전남 / 전북 / 대구·경북 / 부산·울산·경남 / 강원 다만, 수도권 대규모 택지개발지구 등에서 주택이 공급되는 경우 일정 비율의 주택에 대해서는 해당 주택건설지역 거주자와 동등한 자격으로 주택을 공급받을 기회를 가지게 됩니다.\"\n",
    "  },\n",
    "  {\n",
    "    \"num\": 3,\n",
    "    \"question\": \"해당 지역에 거주하고 있으나, 우선공급을 위한 거주기간을 충족하지 못하는 경우 청약신청 지역은?\",\n",
    "    \"answer\": \"입주자모집공고일 현재 해당지역에 거주하고 있으나 우선공급을 위한 거주기간을 충족하지 못하는 경우에는 기타지역으로 청약을 신청하여야 하며, 거주기간을 충족하지 못함에도 해당지역 우선공급으로 청약을 신청하여 당첨된 경우에는 당첨이 취소되고 부적격 처리되어 일정기간 입주자 선정이 제한되는 점을 유의하여 주시기 바랍니다.\"\n",
    "  },\n",
    "  {\n",
    "    \"num\": 4,\n",
    "    \"question\": \"과거 해당지역에 거주한 이력도 우선공급을 위한 거주기간에 포함할 수 있는지?\",\n",
    "    \"answer\": \"우선공급 자격을 인정받기 위해서는 입주자모집공고일로부터 역산한 기준일 이전부터 계속하여 해당 지역에 거주하고 있어야 합니다. 따라서 과거에 해당 지역에 거주한 이력이 있더라도 다른 지역에 거주하다 해당 지역으로 거주지를 옮긴 경우, 주민등록표등본상 최근 전입일을 기준으로 처음부터 거주기간을 기산하여야 합니다. * (예) 입주자모집공고일이 2020.1.1, 우선공급을 위한 거주기간은 2년인 경우, 2018.1.1 이전부터 계속하여 해당 지역에 주민등록을 두고 거주하고 있어야 해당지역 우선공급 자격 인정 (2019.7.1.부터 주민등록을 두고 계속 거주하였다면 2021.7.1. 이후 입주자모집공고한 주택에 우선공급 신청 가능)\"\n",
    "  },\n",
    "  {\n",
    "    \"num\": 5,\n",
    "    \"question\": \"해당지역 거주여부 및 거주기간을 판단하는 기준은?\",\n",
    "    \"answer\": \"거주지역 및 우선공급을 위한 거주기간은 청약신청자의 주민등록표초본을 기준으로 판단하여야 하며, 실제 해당지역에 거주하였다 하더라도 해당 주소지에 주민등록을 하지 않은 경우에는 거주한 것으로 인정할 수 없습니다.(주민등록표초본상 말소 사실이 있는 경우 해당 시·도거주기간은 재등록일 이후부터 산정)\"\n",
    "  }\n",
    "]"
   ]
  },
  {
   "cell_type": "markdown",
   "id": "0a618d03",
   "metadata": {},
   "source": []
  }
 ],
 "metadata": {
  "kernelspec": {
   "display_name": "PJ3_env",
   "language": "python",
   "name": "python3"
  },
  "language_info": {
   "codemirror_mode": {
    "name": "ipython",
    "version": 3
   },
   "file_extension": ".py",
   "mimetype": "text/x-python",
   "name": "python",
   "nbconvert_exporter": "python",
   "pygments_lexer": "ipython3",
   "version": "3.12.11"
  }
 },
 "nbformat": 4,
 "nbformat_minor": 5
}
