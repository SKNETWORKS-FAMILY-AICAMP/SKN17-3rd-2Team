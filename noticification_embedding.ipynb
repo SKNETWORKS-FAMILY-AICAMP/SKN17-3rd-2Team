{
 "cells": [
  {
   "cell_type": "code",
   "execution_count": null,
   "id": "1fb53f89",
   "metadata": {},
   "outputs": [],
   "source": [
    "import os\n",
    "from langchain_community.document_loaders import PyPDFLoader\n",
    "from langchain_openai.embeddings import OpenAIEmbeddings\n",
    "from openai import OpenAI\n",
    "from langchain_chroma.vectorstores import Chroma\n",
    "import chromadb\n",
    "import re\n",
    "from langchain_community.document_loaders import Docx2txtLoader\n",
    "from glob import glob\n",
    "from langchain_text_splitters import RecursiveCharacterTextSplitter\n",
    "from langchain_experimental.text_splitter import SemanticChunker\n",
    "from huggingface_hub import hf_hub_download\n",
    "from langchain_core.runnables import RunnablePassthrough, RunnableParallel\n",
    "from langchain_core.output_parsers import StrOutputParser\n",
    "from langchain_core.runnables.history import BaseChatMessageHistory, RunnableWithMessageHistory\n",
    "from langchain.chains.combine_documents import create_stuff_documents_chain\n",
    "from langchain.chains import create_history_aware_retriever, create_retrieval_chain\n",
    "from langchain.prompts import ChatPromptTemplate, MessagesPlaceholder\n",
    "from langchain_ollama import ChatOllama\n",
    "from langchain import hub\n",
    "from chromadb.utils import embedding_functions"
   ]
  },
  {
   "cell_type": "code",
   "execution_count": null,
   "id": "de68afec",
   "metadata": {},
   "outputs": [],
   "source": [
    "from dotenv import load_dotenv\n",
    "load_dotenv()\n",
    "HF_TOKEN = os.getenv('HF_TOKEN')"
   ]
  },
  {
   "cell_type": "code",
   "execution_count": null,
   "id": "30ac6789",
   "metadata": {},
   "outputs": [],
   "source": [
    "client = OpenAI()\n",
    "emb = OpenAIEmbeddings( model=\"text-embedding-3-small\" )"
   ]
  },
  {
   "cell_type": "code",
   "execution_count": null,
   "id": "08550f96",
   "metadata": {},
   "outputs": [],
   "source": [
    "semantic_splitter = SemanticChunker(\n",
    "    emb,\n",
    "    breakpoint_threshold_type=\"percentile\",\n",
    "    breakpoint_threshold_amount=50,\n",
    ")\n",
    "fallback_splitter = RecursiveCharacterTextSplitter(\n",
    "    chunk_size=400, chunk_overlap=80, separators=[\"\\n\\n\", \"\\n\", \" \", \"\"]\n",
    ")"
   ]
  },
  {
   "cell_type": "code",
   "execution_count": null,
   "id": "d367d024",
   "metadata": {},
   "outputs": [],
   "source": [
    "# Docx file 전처리\n",
    "\n",
    "docx_files = glob('./noticification/*.docx')\n",
    "documents = []"
   ]
  },
  {
   "cell_type": "code",
   "execution_count": null,
   "id": "4e087b18",
   "metadata": {},
   "outputs": [],
   "source": [
    "for docx_file in docx_files:\n",
    "    loader = Docx2txtLoader(docx_file)\n",
    "    docs = loader.load()  # 각 페이지가 하나의 Document(메타데이터에 source/page 포함)\n",
    "\n",
    "    sem_chunks = semantic_splitter.split_documents(docs)\n",
    "    chunks = []\n",
    "    for d in sem_chunks:\n",
    "        if len(d.page_content) > 800:\n",
    "            chunks.extend(fallback_splitter.split_documents([d]))\n",
    "        else:\n",
    "            chunks.append(d)\n",
    "\n",
    "    documents.extend(chunks)"
   ]
  },
  {
   "cell_type": "code",
   "execution_count": null,
   "id": "d4238153",
   "metadata": {},
   "outputs": [],
   "source": [
    "PERSIST_DIR = os.path.abspath(\"./db\")  # 경로 혼동 방지(절대경로 추천)\n",
    "vector_store = Chroma(\n",
    "    collection_name=\"database\",     # 처음과 동일\n",
    "    persist_directory=PERSIST_DIR,  # 처음과 동일\n",
    "    embedding_function=emb,         # 동일 모델/차원\n",
    ")"
   ]
  },
  {
   "cell_type": "code",
   "execution_count": null,
   "id": "ea9d22fc",
   "metadata": {},
   "outputs": [],
   "source": [
    "vector_store.add_documents(documents)"
   ]
  }
 ],
 "metadata": {
  "language_info": {
   "name": "python"
  }
 },
 "nbformat": 4,
 "nbformat_minor": 5
}
