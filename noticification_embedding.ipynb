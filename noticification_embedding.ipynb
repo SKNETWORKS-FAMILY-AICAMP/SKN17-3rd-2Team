{
 "cells": [
  {
   "cell_type": "code",
   "execution_count": 1,
   "id": "1fb53f89",
   "metadata": {},
   "outputs": [],
   "source": [
    "import os\n",
    "from langchain_openai.embeddings import OpenAIEmbeddings\n",
    "from openai import OpenAI\n",
    "from langchain_chroma.vectorstores import Chroma\n",
    "from langchain_community.document_loaders import Docx2txtLoader\n",
    "from glob import glob\n",
    "from langchain_text_splitters import RecursiveCharacterTextSplitter\n",
    "from langchain_experimental.text_splitter import SemanticChunker"
   ]
  },
  {
   "cell_type": "code",
   "execution_count": 2,
   "id": "de68afec",
   "metadata": {},
   "outputs": [],
   "source": [
    "from dotenv import load_dotenv\n",
    "load_dotenv()\n",
    "HF_TOKEN = os.getenv('HF_TOKEN')"
   ]
  },
  {
   "cell_type": "code",
   "execution_count": 3,
   "id": "30ac6789",
   "metadata": {},
   "outputs": [],
   "source": [
    "client = OpenAI()\n",
    "emb = OpenAIEmbeddings( model=\"text-embedding-3-small\" )"
   ]
  },
  {
   "cell_type": "code",
   "execution_count": 4,
   "id": "08550f96",
   "metadata": {},
   "outputs": [],
   "source": [
    "semantic_splitter = SemanticChunker(\n",
    "    emb,\n",
    "    breakpoint_threshold_type=\"percentile\",\n",
    "    breakpoint_threshold_amount=50,\n",
    ")\n",
    "fallback_splitter = RecursiveCharacterTextSplitter(\n",
    "    chunk_size=400, chunk_overlap=80, separators=[\"\\n\\n\", \"\\n\", \" \", \"\"]\n",
    ")"
   ]
  },
  {
   "cell_type": "code",
   "execution_count": 5,
   "id": "d367d024",
   "metadata": {},
   "outputs": [],
   "source": [
    "# Docx file 전처리\n",
    "\n",
    "docx_files = glob('./noticification/*.docx')\n",
    "documents = []"
   ]
  },
  {
   "cell_type": "code",
   "execution_count": 6,
   "id": "1d133d3b",
   "metadata": {},
   "outputs": [],
   "source": [
    "PERSIST_DIR = \"./db\"  # 경로 혼동 방지(절대경로 추천)\n",
    "vector_store_youth = Chroma(\n",
    "    collection_name=\"YOUTH\",     # 처음과 동일\n",
    "    persist_directory=PERSIST_DIR,  # 처음과 동일\n",
    "    embedding_function=emb,         # 동일 모델/차원\n",
    ")"
   ]
  },
  {
   "cell_type": "code",
   "execution_count": 7,
   "id": "41cbca8a",
   "metadata": {},
   "outputs": [],
   "source": [
    "vector_store_marry1 = Chroma(\n",
    "    collection_name=\"MARRY1\",     # 처음과 동일\n",
    "    persist_directory=PERSIST_DIR,  # 처음과 동일\n",
    "    embedding_function=emb,         # 동일 모델/차원\n",
    ")"
   ]
  },
  {
   "cell_type": "code",
   "execution_count": 8,
   "id": "3af10098",
   "metadata": {},
   "outputs": [],
   "source": [
    "vector_store_marry2 = Chroma(\n",
    "    collection_name=\"MARRY2\",     # 처음과 동일\n",
    "    persist_directory=PERSIST_DIR,  # 처음과 동일\n",
    "    embedding_function=emb,         # 동일 모델/차원\n",
    ")"
   ]
  },
  {
   "cell_type": "code",
   "execution_count": 9,
   "id": "4e087b18",
   "metadata": {},
   "outputs": [],
   "source": [
    "for docx_file in docx_files:\n",
    "    loader = Docx2txtLoader(docx_file)\n",
    "    docs = loader.load()  # 각 페이지가 하나의 Document(메타데이터에 source/page 포함)\n",
    "\n",
    "    sem_chunks = semantic_splitter.split_documents(docs)\n",
    "    chunks = []\n",
    "    for d in sem_chunks:\n",
    "        if len(d.page_content) > 800:\n",
    "            chunks.extend(fallback_splitter.split_documents([d]))\n",
    "        else:\n",
    "            chunks.append(d)\n",
    "\n",
    "    documents.extend(chunks)\n",
    "\n",
    "    if docx_file  == './noticification\\\\서울지역본부 신혼·신생아 매입임대주택Ⅰ 예비입주자 모집공고.docx':\n",
    "        vector_store_marry1.add_documents(documents)\n",
    "\n",
    "    elif docx_file == './noticification\\\\서울지역본부 청년매입임대주택 예비입주자 모집공고.docx':\n",
    "        vector_store_youth.add_documents(documents)\n",
    "\n",
    "    elif docx_file == './noticification\\\\서울지역본부_신혼·신생아_매입임대주택Ⅱ_전세형_예비입주자_모집공고.docx':\n",
    "        vector_store_marry2.add_documents(documents)"
   ]
  }
 ],
 "metadata": {
  "kernelspec": {
   "display_name": "llm_pro",
   "language": "python",
   "name": "python3"
  },
  "language_info": {
   "codemirror_mode": {
    "name": "ipython",
    "version": 3
   },
   "file_extension": ".py",
   "mimetype": "text/x-python",
   "name": "python",
   "nbconvert_exporter": "python",
   "pygments_lexer": "ipython3",
   "version": "3.12.11"
  }
 },
 "nbformat": 4,
 "nbformat_minor": 5
}
