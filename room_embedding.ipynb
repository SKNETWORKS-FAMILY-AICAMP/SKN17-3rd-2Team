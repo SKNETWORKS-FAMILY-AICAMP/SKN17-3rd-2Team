{
 "cells": [
  {
   "cell_type": "code",
   "execution_count": 1,
   "id": "c85dbb43",
   "metadata": {},
   "outputs": [],
   "source": [
    "import os\n",
    "from langchain_openai.embeddings import OpenAIEmbeddings\n",
    "from openai import OpenAI\n",
    "from langchain_chroma.vectorstores import Chroma\n",
    "from glob import glob\n",
    "import json"
   ]
  },
  {
   "cell_type": "code",
   "execution_count": 2,
   "id": "af955012",
   "metadata": {},
   "outputs": [],
   "source": [
    "from dotenv import load_dotenv\n",
    "load_dotenv()\n",
    "HF_TOKEN = os.getenv('HF_TOKEN')"
   ]
  },
  {
   "cell_type": "code",
   "execution_count": 3,
   "id": "0ecc037d",
   "metadata": {},
   "outputs": [],
   "source": [
    "client = OpenAI()\n",
    "emb = OpenAIEmbeddings( model=\"text-embedding-3-small\" )"
   ]
  },
  {
   "cell_type": "code",
   "execution_count": 4,
   "id": "0799295c",
   "metadata": {},
   "outputs": [],
   "source": [
    "text_files = glob('./data/*.txt')"
   ]
  },
  {
   "cell_type": "code",
   "execution_count": 5,
   "id": "033f6747",
   "metadata": {},
   "outputs": [],
   "source": [
    "PERSIST_DIR = \"./db\"  # 경로 혼동 방지(절대경로 추천)\n",
    "\n",
    "vector_store_youth = Chroma(\n",
    "    collection_name=\"YOUTH\",     # 처음과 동일\n",
    "    persist_directory=PERSIST_DIR,  # 처음과 동일\n",
    "    embedding_function=emb,         # 동일 모델/차원\n",
    ")"
   ]
  },
  {
   "cell_type": "code",
   "execution_count": 6,
   "id": "8a856bbe",
   "metadata": {},
   "outputs": [],
   "source": [
    "vector_store_marry1 = Chroma(\n",
    "    collection_name=\"MARRY1\",     # 처음과 동일\n",
    "    persist_directory=PERSIST_DIR,  # 처음과 동일\n",
    "    embedding_function=emb,         # 동일 모델/차원\n",
    ")"
   ]
  },
  {
   "cell_type": "code",
   "execution_count": 7,
   "id": "cf229677",
   "metadata": {},
   "outputs": [],
   "source": [
    "vector_store_marry2 = Chroma(\n",
    "    collection_name=\"MARRY2\",     # 처음과 동일\n",
    "    persist_directory=PERSIST_DIR,  # 처음과 동일\n",
    "    embedding_function=emb,         # 동일 모델/차원\n",
    ")"
   ]
  },
  {
   "cell_type": "code",
   "execution_count": 8,
   "id": "865ec9c7",
   "metadata": {},
   "outputs": [
    {
     "name": "stdout",
     "output_type": "stream",
     "text": [
      "['./data\\\\25년3차_신혼·신생아매입임대Ⅰ_공급주택목록(서울지역본부).txt', './data\\\\25년3차_신혼·신생아매입임대Ⅱ(전세형)_공급주택목록(서울지역본부).txt', './data\\\\25년_3차_청년매입임대_공급주택목록(서울지역본부).txt']\n"
     ]
    }
   ],
   "source": [
    "print(text_files)"
   ]
  },
  {
   "cell_type": "code",
   "execution_count": 9,
   "id": "5ea37db5",
   "metadata": {},
   "outputs": [],
   "source": [
    "for file in text_files:\n",
    "    texts, metadatas = [], []\n",
    "    with open(file, 'r', encoding = 'utf-8') as f:\n",
    "        s = f.read()\n",
    "        data = json.loads(s)\n",
    "        for item in data:\n",
    "            info = item[\"metadata\"]\n",
    "            text = \", \".join(f\"{k}: {v}\" for k, v in info.items())\n",
    "            info['source'] = file\n",
    "            metadatas.append(info)\n",
    "            texts.append(text)\n",
    "\n",
    "    if file == './data\\\\25년3차_신혼·신생아매입임대Ⅰ_공급주택목록(서울지역본부).txt':\n",
    "        vector_store_marry1.add_texts(texts, metadatas = metadatas)\n",
    "\n",
    "    elif file == './data\\\\25년3차_신혼·신생아매입임대Ⅱ_공급주택목록(서울지역본부).txt':\n",
    "        vector_store_marry2.add_texts(texts, metadatas = metadatas)\n",
    "\n",
    "    elif file == './data\\\\25년_3차_청년매입임대_공급주택목록(서울지역본부).txt':\n",
    "        vector_store_youth.add_texts(texts, metadatas = metadatas)"
   ]
  },
  {
   "cell_type": "code",
   "execution_count": 10,
   "id": "e34dd5bf",
   "metadata": {},
   "outputs": [],
   "source": [
    "def search_with_filter(query: str, filters: dict, k: int = 5):\n",
    "    return vector_store_youth.similarity_search(query, k=k, filter=filters)\n",
    "\n",
    "docs = search_with_filter(\n",
    "    \"주소 정보 알려줘\",\n",
    "    {\"구\": \"강서구\"},\n",
    "    k=5\n",
    ")"
   ]
  },
  {
   "cell_type": "code",
   "execution_count": 11,
   "id": "ab224e6b",
   "metadata": {},
   "outputs": [
    {
     "name": "stdout",
     "output_type": "stream",
     "text": [
      "[Document(id='e4763afb-6b25-4bcb-b739-f6eff7020d8b', metadata={'방수': 1, '주소': '서울특별시 강서구 화곡로 350(화곡동) SJ라벨라', '주택유형': '오피스텔', '청년 2순위, 3순위 여부': 'N', '호': 1516, '동': '화곡동', '면적계': 33.84, '구': '강서구', '주거공용 면적': 13.46, '층수': '15층', '승강기 유무': 'Y', '월임대료': 358480, 'source': './data\\\\25년_3차_청년매입임대_공급주택목록(서울지역본부).txt', '전용 면적': 20.38, '주택군 이름': '강서화곡동(SJ라벨라)', '청년1순위 여부': 'Y', '임대보증금': 1000000}, page_content='주소: 서울특별시 강서구 화곡로 350(화곡동) SJ라벨라, 구: 강서구, 동: 화곡동, 호: 1516, 주택군 이름: 강서화곡동(SJ라벨라), 전용 면적: 20.38, 주거공용 면적: 13.46, 면적계: 33.84, 방수: 1, 층수: 15층, 승강기 유무: Y, 주택유형: 오피스텔, 임대보증금: 1000000, 월임대료: 358480, 청년1순위 여부: Y, 청년 2순위, 3순위 여부: N'), Document(id='ee4eb320-1ecb-47f4-a087-dc15a25b1ef5', metadata={'임대보증금': 2000000, '동': '화곡동', '주택군 이름': '강서화곡동(SJ라벨라)', '호': 1516, '청년 2순위, 3순위 여부': 'Y', '주소': '서울특별시 강서구 화곡로 350(화곡동) SJ라벨라', '승강기 유무': 'Y', '월임대료': 439590, '전용 면적': 20.38, '주택유형': '오피스텔', '주거공용 면적': 13.46, '청년1순위 여부': 'N', '층수': '15층', 'source': './data\\\\25년_3차_청년매입임대_공급주택목록(서울지역본부).txt', '면적계': 33.84, '구': '강서구', '방수': 1}, page_content='주소: 서울특별시 강서구 화곡로 350(화곡동) SJ라벨라, 구: 강서구, 동: 화곡동, 호: 1516, 주택군 이름: 강서화곡동(SJ라벨라), 전용 면적: 20.38, 주거공용 면적: 13.46, 면적계: 33.84, 방수: 1, 층수: 15층, 승강기 유무: Y, 주택유형: 오피스텔, 임대보증금: 2000000, 월임대료: 439590, 청년1순위 여부: N, 청년 2순위, 3순위 여부: Y'), Document(id='27587505-5084-4b59-a8f2-5345a12b2804', metadata={'방수': 1, '승강기 유무': 'Y', 'source': './data\\\\25년_3차_청년매입임대_공급주택목록(서울지역본부).txt', '주택유형': '오피스텔', '동': '화곡동', '호': 417, '주거공용 면적': 13.46, '월임대료': 348330, '구': '강서구', '임대보증금': 1000000, '청년1순위 여부': 'Y', '주소': '서울특별시 강서구 화곡로 350(화곡동) SJ라벨라', '전용 면적': 20.38, '면적계': 33.84, '청년 2순위, 3순위 여부': 'N', '주택군 이름': '강서화곡동(SJ라벨라)', '층수': '4층'}, page_content='주소: 서울특별시 강서구 화곡로 350(화곡동) SJ라벨라, 구: 강서구, 동: 화곡동, 호: 417, 주택군 이름: 강서화곡동(SJ라벨라), 전용 면적: 20.38, 주거공용 면적: 13.46, 면적계: 33.84, 방수: 1, 층수: 4층, 승강기 유무: Y, 주택유형: 오피스텔, 임대보증금: 1000000, 월임대료: 348330, 청년1순위 여부: Y, 청년 2순위, 3순위 여부: N'), Document(id='e6ac05c1-f030-487d-92f3-2a574c7b9327', metadata={'주거공용 면적': 13.46, 'source': './data\\\\25년_3차_청년매입임대_공급주택목록(서울지역본부).txt', '층수': '4층', '청년 2순위, 3순위 여부': 'Y', '임대보증금': 2000000, '동': '화곡동', '주택군 이름': '강서화곡동(SJ라벨라)', '구': '강서구', '주택유형': '오피스텔', '월임대료': 426900, '전용 면적': 20.38, '면적계': 33.84, '호': 417, '방수': 1, '승강기 유무': 'Y', '주소': '서울특별시 강서구 화곡로 350(화곡동) SJ라벨라', '청년1순위 여부': 'N'}, page_content='주소: 서울특별시 강서구 화곡로 350(화곡동) SJ라벨라, 구: 강서구, 동: 화곡동, 호: 417, 주택군 이름: 강서화곡동(SJ라벨라), 전용 면적: 20.38, 주거공용 면적: 13.46, 면적계: 33.84, 방수: 1, 층수: 4층, 승강기 유무: Y, 주택유형: 오피스텔, 임대보증금: 2000000, 월임대료: 426900, 청년1순위 여부: N, 청년 2순위, 3순위 여부: Y'), Document(id='3f4ea1c8-c76f-401b-94ef-282f345434a8', metadata={'구': '강서구', '주소': '서울특별시 강서구 화곡로59길 71(화곡동) ', '방수': 1, '전용 면적': 16.5, '청년 2순위, 3순위 여부': 'N', '동': '화곡동', '월임대료': 225020, '주택유형': '다가구주택', '호': 301, 'source': './data\\\\25년_3차_청년매입임대_공급주택목록(서울지역본부).txt', '주거공용 면적': 6.11, '층수': '3층', '임대보증금': 1000000, '청년1순위 여부': 'Y', '주택군 이름': '강서화곡동3', '면적계': 22.61, '승강기 유무': 'N'}, page_content='주소: 서울특별시 강서구 화곡로59길 71(화곡동) , 구: 강서구, 동: 화곡동, 호: 301, 주택군 이름: 강서화곡동3, 전용 면적: 16.5, 주거공용 면적: 6.11, 면적계: 22.61, 방수: 1, 층수: 3층, 승강기 유무: N, 주택유형: 다가구주택, 임대보증금: 1000000, 월임대료: 225020, 청년1순위 여부: Y, 청년 2순위, 3순위 여부: N')]\n"
     ]
    }
   ],
   "source": [
    "print(docs)"
   ]
  }
 ],
 "metadata": {
  "kernelspec": {
   "display_name": "llm_pro",
   "language": "python",
   "name": "python3"
  },
  "language_info": {
   "codemirror_mode": {
    "name": "ipython",
    "version": 3
   },
   "file_extension": ".py",
   "mimetype": "text/x-python",
   "name": "python",
   "nbconvert_exporter": "python",
   "pygments_lexer": "ipython3",
   "version": "3.12.11"
  }
 },
 "nbformat": 4,
 "nbformat_minor": 5
}
